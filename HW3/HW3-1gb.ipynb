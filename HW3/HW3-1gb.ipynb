{
 "cells": [
  {
   "cell_type": "code",
   "execution_count": 1,
   "metadata": {
    "deletable": false,
    "editable": false,
    "nbgrader": {
     "cell_type": "code",
     "checksum": "29e12109ac043cba373c64009e95a047",
     "grade": false,
     "grade_id": "cell-54f63d44709fcc35",
     "locked": true,
     "schema_version": 3,
     "solution": false,
     "task": false
    }
   },
   "outputs": [],
   "source": [
    "import os \n",
    "import pickle\n",
    "from time import time\n",
    "import re"
   ]
  },
  {
   "cell_type": "markdown",
   "metadata": {
    "deletable": false,
    "editable": false,
    "nbgrader": {
     "cell_type": "markdown",
     "checksum": "40806121321a22864fa03df4441db22b",
     "grade": false,
     "grade_id": "cell-64d1bd9dce28d4b8",
     "locked": true,
     "schema_version": 3,
     "solution": false,
     "task": false
    }
   },
   "source": [
    "Input your treasurer's username and an identifier of your program. The cell below is the only cell you need to change."
   ]
  },
  {
   "cell_type": "code",
   "execution_count": 2,
   "metadata": {},
   "outputs": [],
   "source": [
    "# leader_name: input your treasurer's username (ucsd.edu email prefix).\n",
    "leader_name = 'x5zhan'\n",
    "# Replace 'HW3' to an identifier that lets everyone in your group know this spark application belows to you. \n",
    "app_name = 'HW3'"
   ]
  },
  {
   "cell_type": "code",
   "execution_count": 3,
   "metadata": {
    "deletable": false,
    "editable": false,
    "nbgrader": {
     "cell_type": "code",
     "checksum": "ace8a468c94dc2e4b62d7468b56aa417",
     "grade": true,
     "grade_id": "sc-inputs",
     "locked": true,
     "points": 0,
     "schema_version": 3,
     "solution": false,
     "task": false
    }
   },
   "outputs": [],
   "source": [
    "# Cell used for grading purposes"
   ]
  },
  {
   "cell_type": "code",
   "execution_count": 4,
   "metadata": {
    "deletable": false,
    "editable": false,
    "nbgrader": {
     "cell_type": "code",
     "checksum": "5df29d8605ceb3ee116f49dc6b0e9d1e",
     "grade": false,
     "grade_id": "cell-2f43ad1a078305a0",
     "locked": true,
     "schema_version": 3,
     "solution": false,
     "task": false
    }
   },
   "outputs": [],
   "source": [
    "_HW = 'HW3'\n",
    "_version = '1gb'"
   ]
  },
  {
   "cell_type": "code",
   "execution_count": 5,
   "metadata": {
    "deletable": false,
    "editable": false,
    "nbgrader": {
     "cell_type": "code",
     "checksum": "3f8fdf0dab2adb0d59f005368e5e1438",
     "grade": false,
     "grade_id": "cell-ba4d670f08bdced5",
     "locked": true,
     "schema_version": 3,
     "solution": false,
     "task": false
    }
   },
   "outputs": [],
   "source": [
    "# Replace information\n",
    "with open(f'{_HW}.py', 'r', encoding='utf-8') as file:\n",
    "    data = file.read()\n",
    "    \n",
    "source = r\"_is_in_develop = True\"\n",
    "output = f\"_is_in_develop = False\"\n",
    "data = re.sub(source, output, data, count=1)\n",
    "\n",
    "source = r\"_version = '.*'\"\n",
    "output = f\"_version = '{_version}'\"\n",
    "data = re.sub(source, output, data, count=1)\n",
    "\n",
    "source = r'sc = set_spark_config(.*)'\n",
    "output = f'sc = set_spark_config(leader_name=\"{leader_name}\", app_name=\"{app_name}\")'\n",
    "data = re.sub(source, output, data, count=1)\n",
    "\n",
    "filename = f'{_HW}-{_version}.py'\n",
    "with open(filename, 'w', encoding='utf-8') as file:\n",
    "    file.write(data)"
   ]
  },
  {
   "cell_type": "markdown",
   "metadata": {},
   "source": [
    "- Running this cell will put your Spark application (HW3.py) into your group cluster queue. Your Spark application will be removed from the queue when this cell finishes or the kernel is interrupted/restarted. \n",
    "\n",
    "- If your program is stuck in this cell or if you see this message \n",
    "    ```\n",
    "WARN TaskSchedulerImpl: Initial job has not accepted any resources; check your cluster UI to ensure that workers are registered and have sufficient resources\n",
    "    ```\n",
    "    it means that your program is in the queue and someone in your group is using the group clusters. Your application will start running automatically when the resources are available (the applications ahead of you have finished). \n",
    "    \n",
    "- To avoid the situation where someone's program is using the resources for too long, all the programs will be timed out after 3600 seconds. **This also means that your program will be timed out if it has been in the queue for 3600 seconds.** \n",
    "\n",
    "- If your program finishes after waiting in the queue, your runtime also includes the time of waiting. **In this case, your runtime is highly inaccurate.** You need to read the runtimes statistics printed by your program and manually sum up the runtime of each part. Since the time you waited will be included in the `set up sc` part, you can assume that your `set up sc` part actually took 5 seconds (which is a typical number for setting up the sc). "
   ]
  },
  {
   "cell_type": "code",
   "execution_count": 6,
   "metadata": {
    "deletable": false,
    "editable": false,
    "nbgrader": {
     "cell_type": "code",
     "checksum": "892e89277b5b931f09f1f8ec360982aa",
     "grade": false,
     "grade_id": "cell-5f9f67b33e27050f",
     "locked": true,
     "schema_version": 3,
     "solution": false,
     "task": false
    }
   },
   "outputs": [
    {
     "name": "stdout",
     "output_type": "stream",
     "text": [
      "22/04/30 21:09:08 WARN NativeCodeLoader: Unable to load native-hadoop library for your platform... using builtin-java classes where applicable\n",
      "Using Spark's default log4j profile: org/apache/spark/log4j-defaults.properties\n",
      "Setting default log level to \"WARN\".\n",
      "To adjust logging level use sc.setLogLevel(newLevel). For SparkR, use setLogLevel(newLevel).\n",
      "[Stage 0:>                                                          (0 + 0) / 2]22/04/30 21:09:25 WARN TaskSchedulerImpl: Initial job has not accepted any resources; check your cluster UI to ensure that workers are registered and have sufficient resources\n",
      "22/04/30 21:09:40 WARN TaskSchedulerImpl: Initial job has not accepted any resources; check your cluster UI to ensure that workers are registered and have sufficient resources\n",
      "22/04/30 21:09:55 WARN TaskSchedulerImpl: Initial job has not accepted any resources; check your cluster UI to ensure that workers are registered and have sufficient resources\n",
      "^C\n",
      "Traceback (most recent call last):\n",
      "  File \"HW3-1gb.py\", line 187, in <module>\n",
      "    sc.parallelize(['Test', 'resources']).collect()\n",
      "  File \"/opt/conda/lib/python3.6/site-packages/pyspark/rdd.py\", line 816, in collect\n",
      "    sock_info = self.ctx._jvm.PythonRDD.collectAndServe(self._jrdd.rdd())\n",
      "  File \"/opt/conda/lib/python3.6/site-packages/py4j/java_gateway.py\", line 1255, in __call__\n",
      "    answer = self.gateway_client.send_command(command)\n",
      "  File \"/opt/conda/lib/python3.6/site-packages/py4j/java_gateway.py\", line 985, in send_command\n",
      "    response = connection.send_command(command)\n",
      "  File \"/opt/conda/lib/python3.6/site-packages/py4j/java_gateway.py\", line 1152, in send_command\n",
      "    answer = smart_decode(self.stream.readline()[:-1])\n",
      "  File \"/opt/conda/lib/python3.6/socket.py\", line 586, in readinto\n",
      "    return self._sock.recv_into(b)\n",
      "  File \"/opt/conda/lib/python3.6/site-packages/pyspark/context.py\", line 270, in signal_handler\n",
      "    raise KeyboardInterrupt()\n",
      "KeyboardInterrupt\n"
     ]
    }
   ],
   "source": [
    "with open(f'/datasets/cs255-sp22-a00-public/public/{_version}-runtimes.txt') as file:\n",
    "    runtimes = list(map(int, file.read().strip().split(\"\\n\")))\n",
    "\n",
    "if os.path.exists('answer.pickle'):\n",
    "    !rm answer.pickle\n",
    "    \n",
    "start = time()\n",
    "!timeout 3600 python {filename}\n",
    "end = time()\n",
    "\n",
    "# Record your runtime \n",
    "duration = end - start\n",
    "\n",
    "!rm {filename}"
   ]
  },
  {
   "cell_type": "code",
   "execution_count": 7,
   "metadata": {
    "deletable": false,
    "editable": false,
    "nbgrader": {
     "cell_type": "code",
     "checksum": "896694e42e89ed8da9c3a9607ce615e9",
     "grade": true,
     "grade_id": "correctness",
     "locked": true,
     "points": 0,
     "schema_version": 3,
     "solution": false,
     "task": false
    }
   },
   "outputs": [
    {
     "ename": "AssertionError",
     "evalue": "Your implementation has runtime error or timed out",
     "output_type": "error",
     "traceback": [
      "\u001b[0;31m---------------------------------------------------------------------------\u001b[0m",
      "\u001b[0;31mAssertionError\u001b[0m                            Traceback (most recent call last)",
      "\u001b[0;32m<ipython-input-7-ee1c66971076>\u001b[0m in \u001b[0;36m<module>\u001b[0;34m\u001b[0m\n\u001b[1;32m      9\u001b[0m     \u001b[0;32massert\u001b[0m \u001b[0mcorrectness\u001b[0m\u001b[0;34m,\u001b[0m \u001b[0;34m\"Your answers are not correct. Check the difference between variable answers (your answers) and variable template (correct answers)\"\u001b[0m\u001b[0;34m\u001b[0m\u001b[0;34m\u001b[0m\u001b[0m\n\u001b[1;32m     10\u001b[0m \u001b[0;32melse\u001b[0m\u001b[0;34m:\u001b[0m\u001b[0;34m\u001b[0m\u001b[0;34m\u001b[0m\u001b[0m\n\u001b[0;32m---> 11\u001b[0;31m     \u001b[0;32massert\u001b[0m \u001b[0mcorrectness\u001b[0m\u001b[0;34m,\u001b[0m \u001b[0;34m\"Your implementation has runtime error or timed out\"\u001b[0m\u001b[0;34m\u001b[0m\u001b[0;34m\u001b[0m\u001b[0m\n\u001b[0m\u001b[1;32m     12\u001b[0m \u001b[0mget_ipython\u001b[0m\u001b[0;34m(\u001b[0m\u001b[0;34m)\u001b[0m\u001b[0;34m.\u001b[0m\u001b[0msystem\u001b[0m\u001b[0;34m(\u001b[0m\u001b[0;34m'rm answer.pickle'\u001b[0m\u001b[0;34m)\u001b[0m\u001b[0;34m\u001b[0m\u001b[0;34m\u001b[0m\u001b[0m\n",
      "\u001b[0;31mAssertionError\u001b[0m: Your implementation has runtime error or timed out"
     ]
    }
   ],
   "source": [
    "correctness = os.path.exists('answer.pickle')\n",
    "if correctness: \n",
    "    with open('answer.pickle', 'rb') as file:\n",
    "        answers = pickle.load(file)\n",
    "    with open(f'/datasets/cs255-sp22-a00-public/public/{_version}-answer.pickle', 'rb') as file:\n",
    "        template = pickle.load(file)\n",
    "\n",
    "    correctness = answers == template\n",
    "    assert correctness, \"Your answers are not correct. Check the difference between variable answers (your answers) and variable template (correct answers)\"\n",
    "else:\n",
    "    assert correctness, \"Your implementation has runtime error or timed out\"\n",
    "!rm answer.pickle"
   ]
  },
  {
   "cell_type": "code",
   "execution_count": null,
   "metadata": {
    "deletable": false,
    "editable": false,
    "nbgrader": {
     "cell_type": "code",
     "checksum": "715cbe758cd125b6c5bb8ce3ec3eb797",
     "grade": false,
     "grade_id": "cell-448c8447307abc25",
     "locked": true,
     "schema_version": 3,
     "solution": false,
     "task": false
    }
   },
   "outputs": [],
   "source": [
    "print(f'Your program took {duration} seconds')"
   ]
  },
  {
   "cell_type": "code",
   "execution_count": null,
   "metadata": {
    "deletable": false,
    "editable": false,
    "nbgrader": {
     "cell_type": "code",
     "checksum": "cf79bfe338614fdca8321466aff19d13",
     "grade": true,
     "grade_id": "runtime-0",
     "locked": true,
     "points": 5,
     "schema_version": 3,
     "solution": false,
     "task": false
    }
   },
   "outputs": [],
   "source": [
    "i = 0\n",
    "assert correctness and duration < runtimes[i], f'Either your answer is not correct or your runtime is larger than {runtimes[i]} seconds'"
   ]
  },
  {
   "cell_type": "code",
   "execution_count": null,
   "metadata": {
    "deletable": false,
    "editable": false,
    "nbgrader": {
     "cell_type": "code",
     "checksum": "3cede3f4673aacbda83d4b03e331b383",
     "grade": true,
     "grade_id": "runtime-1",
     "locked": true,
     "points": 5,
     "schema_version": 3,
     "solution": false,
     "task": false
    }
   },
   "outputs": [],
   "source": [
    "i = 1\n",
    "assert correctness and duration < runtimes[i], f'Either your answer is not correct or your runtime is larger than {runtimes[i]} seconds'"
   ]
  },
  {
   "cell_type": "code",
   "execution_count": null,
   "metadata": {
    "deletable": false,
    "editable": false,
    "nbgrader": {
     "cell_type": "code",
     "checksum": "90eae131fe9f31cee60c8d628c78b0fc",
     "grade": true,
     "grade_id": "runtime-2",
     "locked": true,
     "points": 5,
     "schema_version": 3,
     "solution": false,
     "task": false
    }
   },
   "outputs": [],
   "source": [
    "i = 2\n",
    "assert correctness and duration < runtimes[i], f'Either your answer is not correct or your runtime is larger than {runtimes[i]} seconds'"
   ]
  },
  {
   "cell_type": "code",
   "execution_count": null,
   "metadata": {
    "deletable": false,
    "editable": false,
    "nbgrader": {
     "cell_type": "code",
     "checksum": "031daa50f2cb867464f6ea639f111624",
     "grade": true,
     "grade_id": "runtime-3",
     "locked": true,
     "points": 5,
     "schema_version": 3,
     "solution": false,
     "task": false
    }
   },
   "outputs": [],
   "source": [
    "i = 3\n",
    "assert correctness and duration < runtimes[i], f'Either your answer is not correct or your runtime is larger than {runtimes[i]} seconds'"
   ]
  },
  {
   "cell_type": "code",
   "execution_count": null,
   "metadata": {
    "deletable": false,
    "editable": false,
    "nbgrader": {
     "cell_type": "code",
     "checksum": "30e395ee1871f0cad954f14380dfe4ef",
     "grade": true,
     "grade_id": "runtime-4",
     "locked": true,
     "points": 5,
     "schema_version": 3,
     "solution": false,
     "task": false
    }
   },
   "outputs": [],
   "source": [
    "i = 4\n",
    "assert correctness and duration < runtimes[i], f'Either your answer is not correct or your runtime is larger than {runtimes[i]} seconds'"
   ]
  },
  {
   "cell_type": "code",
   "execution_count": null,
   "metadata": {
    "deletable": false,
    "editable": false,
    "nbgrader": {
     "cell_type": "code",
     "checksum": "0a95d6a096fa003475d450e117956d7a",
     "grade": true,
     "grade_id": "runtime-5",
     "locked": true,
     "points": 5,
     "schema_version": 3,
     "solution": false,
     "task": false
    }
   },
   "outputs": [],
   "source": [
    "i = 5\n",
    "assert correctness and duration < runtimes[i], f'Either your answer is not correct or your runtime is larger than {runtimes[i]} seconds'"
   ]
  },
  {
   "cell_type": "code",
   "execution_count": null,
   "metadata": {
    "deletable": false,
    "editable": false,
    "nbgrader": {
     "cell_type": "code",
     "checksum": "3acfd05dcefaccbad068d8550530c4d7",
     "grade": true,
     "grade_id": "runtime-6",
     "locked": true,
     "points": 5,
     "schema_version": 3,
     "solution": false,
     "task": false
    }
   },
   "outputs": [],
   "source": [
    "i = 6\n",
    "assert correctness and duration < runtimes[i], f'Either your answer is not correct or your runtime is larger than {runtimes[i]} seconds'"
   ]
  },
  {
   "cell_type": "code",
   "execution_count": null,
   "metadata": {
    "deletable": false,
    "editable": false,
    "nbgrader": {
     "cell_type": "code",
     "checksum": "f6eed1ce7d536e093c0c10135c9cc83c",
     "grade": true,
     "grade_id": "runtime-7",
     "locked": true,
     "points": 5,
     "schema_version": 3,
     "solution": false,
     "task": false
    }
   },
   "outputs": [],
   "source": [
    "i = 7\n",
    "assert correctness and duration < runtimes[i], f'Either your answer is not correct or your runtime is larger than {runtimes[i]} seconds'"
   ]
  },
  {
   "cell_type": "code",
   "execution_count": null,
   "metadata": {
    "deletable": false,
    "editable": false,
    "nbgrader": {
     "cell_type": "code",
     "checksum": "10f6a097d3e346e348276dd567b6f072",
     "grade": true,
     "grade_id": "runtime-8",
     "locked": true,
     "points": 5,
     "schema_version": 3,
     "solution": false,
     "task": false
    }
   },
   "outputs": [],
   "source": [
    "i = 8\n",
    "assert correctness and duration < runtimes[i], f'Either your answer is not correct or your runtime is larger than {runtimes[i]} seconds'"
   ]
  },
  {
   "cell_type": "code",
   "execution_count": null,
   "metadata": {
    "deletable": false,
    "editable": false,
    "nbgrader": {
     "cell_type": "code",
     "checksum": "f70495a1521e3ae38a171fae76d05bd2",
     "grade": true,
     "grade_id": "runtime-9",
     "locked": true,
     "points": 5,
     "schema_version": 3,
     "solution": false,
     "task": false
    }
   },
   "outputs": [],
   "source": [
    "i = 9\n",
    "assert correctness and duration < runtimes[i], f'Either your answer is not correct or your runtime is larger than {runtimes[i]} seconds'"
   ]
  }
 ],
 "metadata": {
  "kernelspec": {
   "display_name": "Python 3",
   "language": "python",
   "name": "python3"
  },
  "language_info": {
   "codemirror_mode": {
    "name": "ipython",
    "version": 3
   },
   "file_extension": ".py",
   "mimetype": "text/x-python",
   "name": "python",
   "nbconvert_exporter": "python",
   "pygments_lexer": "ipython3",
   "version": "3.6.13"
  },
  "toc": {
   "base_numbering": 1,
   "nav_menu": {},
   "number_sections": true,
   "sideBar": true,
   "skip_h1_title": false,
   "title_cell": "Table of Contents",
   "title_sidebar": "Contents",
   "toc_cell": false,
   "toc_position": {},
   "toc_section_display": true,
   "toc_window_display": false
  }
 },
 "nbformat": 4,
 "nbformat_minor": 1
}
