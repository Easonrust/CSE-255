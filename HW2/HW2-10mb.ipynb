{
 "cells": [
  {
   "cell_type": "code",
   "execution_count": 1,
   "metadata": {
    "deletable": false,
    "editable": false,
    "nbgrader": {
     "cell_type": "code",
     "checksum": "6b82e74c4ce61c047e00aa3e5f156a68",
     "grade": false,
     "grade_id": "cell-54f63d44709fcc35",
     "locked": true,
     "schema_version": 3,
     "solution": false,
     "task": false
    }
   },
   "outputs": [],
   "source": [
    "import os \n",
    "import pickle\n",
    "from time import time"
   ]
  },
  {
   "cell_type": "code",
   "execution_count": 2,
   "metadata": {
    "deletable": false,
    "editable": false,
    "nbgrader": {
     "cell_type": "code",
     "checksum": "3edb5766ddcdd9c5cce7f4b257f0a93f",
     "grade": false,
     "grade_id": "cell-2f43ad1a078305a0",
     "locked": true,
     "schema_version": 3,
     "solution": false,
     "task": false
    }
   },
   "outputs": [],
   "source": [
    "_version = '10mb'"
   ]
  },
  {
   "cell_type": "code",
   "execution_count": 3,
   "metadata": {
    "deletable": false,
    "editable": false,
    "nbgrader": {
     "cell_type": "code",
     "checksum": "2b75a96f9b9f7350c71421a8cec60279",
     "grade": false,
     "grade_id": "cell-ba4d670f08bdced5",
     "locked": true,
     "schema_version": 3,
     "solution": false,
     "task": false
    }
   },
   "outputs": [],
   "source": [
    "# Replace information\n",
    "with open('HW2.py', 'r', encoding='utf-8') as file:\n",
    "    data = file.read()\n",
    "    \n",
    "source = \"_is_in_develop = True\"\n",
    "output = \"_is_in_develop = False\"\n",
    "data = data.replace(source, output, 1)\n",
    "\n",
    "source = f\"_version = '5mb'\"\n",
    "output = f\"_version = '{_version}'\"\n",
    "data = data.replace(source, output, 1)\n",
    "\n",
    "filename = f'HW2-{_version}.py'\n",
    "with open(filename, 'w', encoding='utf-8') as file:\n",
    "    file.write(data)"
   ]
  },
  {
   "cell_type": "code",
   "execution_count": 4,
   "metadata": {
    "deletable": false,
    "editable": false,
    "nbgrader": {
     "cell_type": "code",
     "checksum": "dafb36de566b006dd00e71ac07d677e7",
     "grade": false,
     "grade_id": "cell-5f9f67b33e27050f",
     "locked": true,
     "schema_version": 3,
     "solution": false,
     "task": false
    }
   },
   "outputs": [
    {
     "name": "stdout",
     "output_type": "stream",
     "text": [
      "22/04/23 18:34:00 WARN NativeCodeLoader: Unable to load native-hadoop library for your platform... using builtin-java classes where applicable\n",
      "Using Spark's default log4j profile: org/apache/spark/log4j-defaults.properties\n",
      "Setting default log level to \"WARN\".\n",
      "To adjust logging level use sc.setLogLevel(newLevel). For SparkR, use setLogLevel(newLevel).\n",
      "total time 0:00:15                                                              \n",
      "set up sc 0:00:03\n",
      "read data 0:00:02\n",
      "count unique users 0:00:00\n",
      "count tweets per user partition 0:00:04\n",
      "count all unique tokens 0:00:01\n",
      "count overall most popular tokens 0:00:00\n",
      "print popular tokens in each group 0:00:04\n"
     ]
    }
   ],
   "source": [
    "if os.path.exists('answer.pickle'):\n",
    "    !rm answer.pickle\n",
    "\n",
    "start = time()\n",
    "!timeout 60 python {filename}\n",
    "end = time()\n",
    "\n",
    "# Record your runtime \n",
    "duration = end - start\n",
    "\n",
    "# Read answers and delete temp files\n",
    "with open('answer.pickle', 'rb') as file:\n",
    "    answers = pickle.load(file)\n",
    "!rm answer.pickle\n",
    "!rm {filename}"
   ]
  },
  {
   "cell_type": "code",
   "execution_count": 5,
   "metadata": {
    "deletable": false,
    "editable": false,
    "nbgrader": {
     "cell_type": "code",
     "checksum": "6551130fa71d379cd3ef6ce37f677605",
     "grade": true,
     "grade_id": "num-tweets",
     "locked": true,
     "points": 2,
     "schema_version": 3,
     "solution": false,
     "task": false
    }
   },
   "outputs": [],
   "source": [
    "##Hidden test cases here"
   ]
  },
  {
   "cell_type": "code",
   "execution_count": 6,
   "metadata": {
    "deletable": false,
    "editable": false,
    "nbgrader": {
     "cell_type": "code",
     "checksum": "1215add05b743d31053b396842be32bd",
     "grade": true,
     "grade_id": "num-unique-users",
     "locked": true,
     "points": 3,
     "schema_version": 3,
     "solution": false,
     "task": false
    }
   },
   "outputs": [],
   "source": [
    "##Hidden test cases here"
   ]
  },
  {
   "cell_type": "code",
   "execution_count": 7,
   "metadata": {
    "deletable": false,
    "editable": false,
    "nbgrader": {
     "cell_type": "code",
     "checksum": "eddea50292221e985c6a43ed1e994617",
     "grade": true,
     "grade_id": "counts_per_part",
     "locked": true,
     "points": 5,
     "schema_version": 3,
     "solution": false,
     "task": false
    }
   },
   "outputs": [],
   "source": [
    "##Hidden test cases here"
   ]
  },
  {
   "cell_type": "code",
   "execution_count": 8,
   "metadata": {
    "deletable": false,
    "editable": false,
    "nbgrader": {
     "cell_type": "code",
     "checksum": "e49ca22c9ee5c3a46656fc0afcd2281f",
     "grade": true,
     "grade_id": "num_of_tokens",
     "locked": true,
     "points": 5,
     "schema_version": 3,
     "solution": false,
     "task": false
    }
   },
   "outputs": [],
   "source": [
    "##Hidden test cases here"
   ]
  },
  {
   "cell_type": "code",
   "execution_count": 9,
   "metadata": {
    "deletable": false,
    "editable": false,
    "nbgrader": {
     "cell_type": "code",
     "checksum": "c601da1a5df4013ffa4a2acb07799618",
     "grade": true,
     "grade_id": "num_freq_tokens",
     "locked": true,
     "points": 5,
     "schema_version": 3,
     "solution": false,
     "task": false
    }
   },
   "outputs": [],
   "source": [
    "##Hidden test cases here"
   ]
  },
  {
   "cell_type": "code",
   "execution_count": 10,
   "metadata": {
    "deletable": false,
    "editable": false,
    "nbgrader": {
     "cell_type": "code",
     "checksum": "8012ad6bbb811889f78c4f21463d8fa8",
     "grade": true,
     "grade_id": "top20",
     "locked": true,
     "points": 10,
     "schema_version": 3,
     "solution": false,
     "task": false
    }
   },
   "outputs": [],
   "source": [
    "##Hidden test cases here"
   ]
  },
  {
   "cell_type": "code",
   "execution_count": 11,
   "metadata": {
    "deletable": false,
    "editable": false,
    "nbgrader": {
     "cell_type": "code",
     "checksum": "00c72773f718e55d2bbae7e00bffcf76",
     "grade": true,
     "grade_id": "popular_10_in_each_group",
     "locked": true,
     "points": 20,
     "schema_version": 3,
     "solution": false,
     "task": false
    }
   },
   "outputs": [],
   "source": [
    "##Hidden test cases here"
   ]
  }
 ],
 "metadata": {
  "kernelspec": {
   "display_name": "Python 3",
   "language": "python",
   "name": "python3"
  },
  "language_info": {
   "codemirror_mode": {
    "name": "ipython",
    "version": 3
   },
   "file_extension": ".py",
   "mimetype": "text/x-python",
   "name": "python",
   "nbconvert_exporter": "python",
   "pygments_lexer": "ipython3",
   "version": "3.6.13"
  },
  "toc": {
   "base_numbering": 1,
   "nav_menu": {},
   "number_sections": true,
   "sideBar": true,
   "skip_h1_title": false,
   "title_cell": "Table of Contents",
   "title_sidebar": "Contents",
   "toc_cell": false,
   "toc_position": {},
   "toc_section_display": true,
   "toc_window_display": false
  }
 },
 "nbformat": 4,
 "nbformat_minor": 1
}
