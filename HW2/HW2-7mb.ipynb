{
 "cells": [
  {
   "cell_type": "code",
   "execution_count": null,
   "metadata": {
    "deletable": false,
    "editable": false,
    "nbgrader": {
     "cell_type": "code",
     "checksum": "6b82e74c4ce61c047e00aa3e5f156a68",
     "grade": false,
     "grade_id": "cell-54f63d44709fcc35",
     "locked": true,
     "schema_version": 3,
     "solution": false,
     "task": false
    }
   },
   "outputs": [],
   "source": [
    "import os \n",
    "import pickle\n",
    "from time import time"
   ]
  },
  {
   "cell_type": "code",
   "execution_count": null,
   "metadata": {
    "deletable": false,
    "editable": false,
    "nbgrader": {
     "cell_type": "code",
     "checksum": "7f28c063aad8f49b11ebf71fd29073ae",
     "grade": false,
     "grade_id": "cell-2f43ad1a078305a0",
     "locked": true,
     "schema_version": 3,
     "solution": false,
     "task": false
    }
   },
   "outputs": [],
   "source": [
    "_version = '7mb'"
   ]
  },
  {
   "cell_type": "code",
   "execution_count": null,
   "metadata": {
    "deletable": false,
    "editable": false,
    "nbgrader": {
     "cell_type": "code",
     "checksum": "2b75a96f9b9f7350c71421a8cec60279",
     "grade": false,
     "grade_id": "cell-ba4d670f08bdced5",
     "locked": true,
     "schema_version": 3,
     "solution": false,
     "task": false
    }
   },
   "outputs": [],
   "source": [
    "# Replace information\n",
    "with open('HW2.py', 'r', encoding='utf-8') as file:\n",
    "    data = file.read()\n",
    "    \n",
    "source = \"_is_in_develop = True\"\n",
    "output = \"_is_in_develop = False\"\n",
    "data = data.replace(source, output, 1)\n",
    "\n",
    "source = f\"_version = '5mb'\"\n",
    "output = f\"_version = '{_version}'\"\n",
    "data = data.replace(source, output, 1)\n",
    "\n",
    "filename = f'HW2-{_version}.py'\n",
    "with open(filename, 'w', encoding='utf-8') as file:\n",
    "    file.write(data)"
   ]
  },
  {
   "cell_type": "code",
   "execution_count": null,
   "metadata": {
    "deletable": false,
    "editable": false,
    "nbgrader": {
     "cell_type": "code",
     "checksum": "dafb36de566b006dd00e71ac07d677e7",
     "grade": false,
     "grade_id": "cell-5f9f67b33e27050f",
     "locked": true,
     "schema_version": 3,
     "solution": false,
     "task": false
    }
   },
   "outputs": [],
   "source": [
    "if os.path.exists('answer.pickle'):\n",
    "    !rm answer.pickle\n",
    "\n",
    "start = time()\n",
    "!timeout 60 python {filename}\n",
    "end = time()\n",
    "\n",
    "# Record your runtime \n",
    "duration = end - start\n",
    "\n",
    "# Read answers and delete temp files\n",
    "with open('answer.pickle', 'rb') as file:\n",
    "    answers = pickle.load(file)\n",
    "!rm answer.pickle\n",
    "!rm {filename}"
   ]
  },
  {
   "cell_type": "code",
   "execution_count": null,
   "metadata": {
    "deletable": false,
    "editable": false,
    "nbgrader": {
     "cell_type": "code",
     "checksum": "7c78508c9ec12dc4457b91fa96a71d2e",
     "grade": true,
     "grade_id": "num-tweets",
     "locked": true,
     "points": 2,
     "schema_version": 3,
     "solution": false,
     "task": false
    }
   },
   "outputs": [],
   "source": [
    "assert answers['num_tweets'] == 1507, \"Your answer is not correct\""
   ]
  },
  {
   "cell_type": "code",
   "execution_count": null,
   "metadata": {
    "deletable": false,
    "editable": false,
    "nbgrader": {
     "cell_type": "code",
     "checksum": "09bba70a247772c98188a23f3d4c071e",
     "grade": true,
     "grade_id": "num-unique-users",
     "locked": true,
     "points": 3,
     "schema_version": 3,
     "solution": false,
     "task": false
    }
   },
   "outputs": [],
   "source": [
    "assert answers['num_unique_users'] == 1255, \"Your answer is not correct\""
   ]
  },
  {
   "cell_type": "code",
   "execution_count": null,
   "metadata": {
    "deletable": false,
    "editable": false,
    "nbgrader": {
     "cell_type": "code",
     "checksum": "39f088d9a4f7aa037e98e20df84a77a6",
     "grade": true,
     "grade_id": "counts_per_part",
     "locked": true,
     "points": 5,
     "schema_version": 3,
     "solution": false,
     "task": false
    }
   },
   "outputs": [],
   "source": [
    "assert answers['counts_per_part'] == [\n",
    "    (0, 63),\n",
    "    (1, 171),\n",
    "    (2, 24),\n",
    "    (3, 258),\n",
    "    (4, 70),\n",
    "    (5, 242),\n",
    "    (6, 299),\n",
    "    (7, 369)\n",
    "], \"Your answer is not correct\""
   ]
  },
  {
   "cell_type": "code",
   "execution_count": null,
   "metadata": {
    "deletable": false,
    "editable": false,
    "nbgrader": {
     "cell_type": "code",
     "checksum": "0802e474b46c3f9df242fc6918d1a0d6",
     "grade": true,
     "grade_id": "num_of_tokens",
     "locked": true,
     "points": 5,
     "schema_version": 3,
     "solution": false,
     "task": false
    }
   },
   "outputs": [],
   "source": [
    "assert answers['num_of_tokens'] == 5997, \"Your answer is not correct\""
   ]
  },
  {
   "cell_type": "code",
   "execution_count": null,
   "metadata": {
    "deletable": false,
    "editable": false,
    "nbgrader": {
     "cell_type": "code",
     "checksum": "7c18ca90aa5b4521399455846352d49b",
     "grade": true,
     "grade_id": "num_freq_tokens",
     "locked": true,
     "points": 5,
     "schema_version": 3,
     "solution": false,
     "task": false
    }
   },
   "outputs": [],
   "source": [
    "assert answers['num_freq_tokens'] == 27, \"Your answer is not correct\""
   ]
  },
  {
   "cell_type": "code",
   "execution_count": null,
   "metadata": {
    "deletable": false,
    "editable": false,
    "nbgrader": {
     "cell_type": "code",
     "checksum": "ef14d72bfafe726b11c956df79aa1c3a",
     "grade": true,
     "grade_id": "top20",
     "locked": true,
     "points": 10,
     "schema_version": 3,
     "solution": false,
     "task": false
    }
   },
   "outputs": [],
   "source": [
    "assert answers['top20'] == [\n",
    "    (':', 753),\n",
    "    ('rt', 666),\n",
    "    ('.', 538),\n",
    "    ('the', 422),\n",
    "    ('trump', 402),\n",
    "    ('…', 361),\n",
    "    ('to', 359),\n",
    "    (',', 344),\n",
    "    ('in', 272),\n",
    "    ('is', 258),\n",
    "    ('a', 255),\n",
    "    ('!', 203),\n",
    "    ('of', 201),\n",
    "    ('for', 196),\n",
    "    ('and', 182),\n",
    "    ('on', 157),\n",
    "    ('i', 155),\n",
    "    ('he', 138),\n",
    "    ('that', 132),\n",
    "    ('\"', 124)\n",
    "], \"Your answer is not correct\""
   ]
  },
  {
   "cell_type": "code",
   "execution_count": null,
   "metadata": {
    "deletable": false,
    "editable": false,
    "nbgrader": {
     "cell_type": "code",
     "checksum": "e9f192113204489285864b15bb4d0737",
     "grade": true,
     "grade_id": "popular_10_in_each_group",
     "locked": true,
     "points": 10,
     "schema_version": 3,
     "solution": false,
     "task": false
    }
   },
   "outputs": [],
   "source": [
    "assert  answers['popular_10_in_each_group'] == [\n",
    "    [('bernie', -3.8650704199138914),\n",
    "     ('to', -4.028408415185754),\n",
    "     ('that', -4.044394119358453),\n",
    "     ('\"', -4.146841388329271),\n",
    "     ('and', -4.185866545311334),\n",
    "     ('-', -4.2223924213364485),\n",
    "     (',', -4.256339753259786),\n",
    "     ('i', -4.2761244052742375),\n",
    "     ('for', -4.292781749227846),\n",
    "     ('on', -4.294620748891627)],\n",
    "    [('for', -2.6147098441152083),\n",
    "     ('that', -2.652076696579693),\n",
    "     ('bernie', -2.7655347463629774),\n",
    "     ('rt', -2.840219555963231),\n",
    "     ('is', -2.841302253980942),\n",
    "     ('.', -2.8426436720607433),\n",
    "     (':', -2.898294571920134),\n",
    "     ('a', -2.9068905956085187),\n",
    "     ('…', -2.9412661752095333),\n",
    "     ('\"', -2.954196310386875)],\n",
    "    [('on', -4.972692654004264),\n",
    "     ('of', -5.066089190457773),\n",
    "     ('in', -5.08746284125034),\n",
    "     ('donald', -5.196397212803504),\n",
    "     ('the', -5.399171093819823),\n",
    "     (',', -5.426264754702098),\n",
    "     ('…', -5.49585502688717),\n",
    "     ('he', -5.523561956057013),\n",
    "     ('rt', -5.5720234450136585),\n",
    "     ('.', -5.612030743919327)],\n",
    "    [('bernie', -1.5025003405291832),\n",
    "     ('\"', -2.4306343543298623),\n",
    "     ('-', -2.485426827170242),\n",
    "     ('in', -2.6611980865482416),\n",
    "     ('will', -2.6865005271832185),\n",
    "     ('you', -2.6938968722743204),\n",
    "     ('and', -2.700439718141092),\n",
    "     ('rt', -2.7211668843194676),\n",
    "     ('of', -2.7441610955704103),\n",
    "     ('a', -2.7464259234152726)],\n",
    "    [('bernie', -3.502500340529183),\n",
    "     ('for', -3.7078192485066896),\n",
    "     ('not', -3.7142455176661224),\n",
    "     ('?', -3.78135971352466),\n",
    "     ('that', -3.8744691179161412),\n",
    "     ('to', -3.9642780777660382),\n",
    "     ('-', -4.0),\n",
    "     (',', -4.033947331923338),\n",
    "     ('of', -4.066089190457772),\n",
    "     ('i', -4.106199403831925)],\n",
    "    [('not', -1.7142455176661227),\n",
    "     ('on', -1.9370687442735433),\n",
    "     ('he', -2.108524456778169),\n",
    "     ('i', -2.146841388329271),\n",
    "     ('is', -2.310787537282162),\n",
    "     ('!', -2.343407822297814),\n",
    "     ('that', -2.3439544012173616),\n",
    "     ('.', -2.3849618353734057),\n",
    "     ('you', -2.3890422907458992),\n",
    "     ('…', -2.4297658364293984)],\n",
    "    [('will', -1.40109830832097),\n",
    "     ('!', -1.4558825515562266),\n",
    "     ('trump', -1.6968553807920537),\n",
    "     ('…', -1.7543880404860241),\n",
    "     ('-', -1.7629608026991508),\n",
    "     ('in', -1.9377157217456573),\n",
    "     ('is', -1.9668331360648008),\n",
    "     ('he', -1.9792414398332026),\n",
    "     ('rt', -2.1032539617970247),\n",
    "     ('and', -2.1502426355806126)],\n",
    "    [('donald', -0.9740047914670558),\n",
    "     ('trump', -1.6176286896414784),\n",
    "     ('of', -1.74416109557041),\n",
    "     ('bernie', -1.8650704199138914),\n",
    "     ('you', -1.9233787183970876),\n",
    "     ('the', -1.9397394751825254),\n",
    "     ('\"', -1.9541963103868754),\n",
    "     (',', -1.9668331360648008),\n",
    "     ('?', -1.9740047914670555),\n",
    "     ('i', -1.9907221864119893)]\n",
    "], \"Your answer is not correct\""
   ]
  }
 ],
 "metadata": {
  "kernelspec": {
   "display_name": "Python 3",
   "language": "python",
   "name": "python3"
  },
  "language_info": {
   "codemirror_mode": {
    "name": "ipython",
    "version": 3
   },
   "file_extension": ".py",
   "mimetype": "text/x-python",
   "name": "python",
   "nbconvert_exporter": "python",
   "pygments_lexer": "ipython3",
   "version": "3.6.13"
  },
  "toc": {
   "base_numbering": 1,
   "nav_menu": {},
   "number_sections": true,
   "sideBar": true,
   "skip_h1_title": false,
   "title_cell": "Table of Contents",
   "title_sidebar": "Contents",
   "toc_cell": false,
   "toc_position": {},
   "toc_section_display": true,
   "toc_window_display": false
  }
 },
 "nbformat": 4,
 "nbformat_minor": 1
}
